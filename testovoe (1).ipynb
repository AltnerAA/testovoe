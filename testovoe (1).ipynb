{
 "cells": [
  {
   "cell_type": "code",
   "execution_count": 318,
   "id": "42cf8624",
   "metadata": {},
   "outputs": [],
   "source": [
    "import pandas as pd\n",
    "import seaborn as sns\n",
    "import matplotlib.pyplot as plt\n",
    "import matplotlib.dates as mdates\n",
    "import numpy as np\n",
    "pd.options.mode.chained_assignment = None"
   ]
  },
  {
   "cell_type": "code",
   "execution_count": 319,
   "id": "d3c62075",
   "metadata": {},
   "outputs": [],
   "source": [
    "df = pd.read_csv('C:/Users/USER/Downloads/hw.csv')"
   ]
  },
  {
   "cell_type": "markdown",
   "id": "b66f4593",
   "metadata": {},
   "source": [
    "# Исследование данных"
   ]
  },
  {
   "cell_type": "code",
   "execution_count": 320,
   "id": "27909a9e",
   "metadata": {},
   "outputs": [
    {
     "data": {
      "text/html": [
       "<div>\n",
       "<style scoped>\n",
       "    .dataframe tbody tr th:only-of-type {\n",
       "        vertical-align: middle;\n",
       "    }\n",
       "\n",
       "    .dataframe tbody tr th {\n",
       "        vertical-align: top;\n",
       "    }\n",
       "\n",
       "    .dataframe thead th {\n",
       "        text-align: right;\n",
       "    }\n",
       "</style>\n",
       "<table border=\"1\" class=\"dataframe\">\n",
       "  <thead>\n",
       "    <tr style=\"text-align: right;\">\n",
       "      <th></th>\n",
       "      <th>Дата установки</th>\n",
       "      <th>Источник установки</th>\n",
       "      <th>Рекламная кампания</th>\n",
       "      <th>Показы</th>\n",
       "      <th>Клики</th>\n",
       "      <th>Затраты</th>\n",
       "      <th>Установки</th>\n",
       "      <th>Заявки</th>\n",
       "      <th>Одобрения</th>\n",
       "      <th>Активации</th>\n",
       "      <th>Утилизации</th>\n",
       "      <th>Средние балансы</th>\n",
       "      <th>Денежные обороты</th>\n",
       "    </tr>\n",
       "  </thead>\n",
       "  <tbody>\n",
       "    <tr>\n",
       "      <th>0</th>\n",
       "      <td>2020-12-04</td>\n",
       "      <td>source_1</td>\n",
       "      <td>campaign1</td>\n",
       "      <td>961928</td>\n",
       "      <td>290</td>\n",
       "      <td>1262</td>\n",
       "      <td>44.0</td>\n",
       "      <td>11.0</td>\n",
       "      <td>4.0</td>\n",
       "      <td>3.0</td>\n",
       "      <td>3.0</td>\n",
       "      <td>220,374449</td>\n",
       "      <td>155,4221167</td>\n",
       "    </tr>\n",
       "    <tr>\n",
       "      <th>1</th>\n",
       "      <td>2020-12-01</td>\n",
       "      <td>source_1</td>\n",
       "      <td>campaign2</td>\n",
       "      <td>167284</td>\n",
       "      <td>182</td>\n",
       "      <td>111</td>\n",
       "      <td>35.0</td>\n",
       "      <td>2.0</td>\n",
       "      <td>1.0</td>\n",
       "      <td>0.0</td>\n",
       "      <td>0.0</td>\n",
       "      <td>NaN</td>\n",
       "      <td>NaN</td>\n",
       "    </tr>\n",
       "    <tr>\n",
       "      <th>2</th>\n",
       "      <td>2020-12-18</td>\n",
       "      <td>source_2</td>\n",
       "      <td>campaign3</td>\n",
       "      <td>2517</td>\n",
       "      <td>83</td>\n",
       "      <td>36</td>\n",
       "      <td>7.0</td>\n",
       "      <td>5.0</td>\n",
       "      <td>2.0</td>\n",
       "      <td>1.0</td>\n",
       "      <td>1.0</td>\n",
       "      <td>3,918424516</td>\n",
       "      <td>20,57456667</td>\n",
       "    </tr>\n",
       "    <tr>\n",
       "      <th>3</th>\n",
       "      <td>2020-12-27</td>\n",
       "      <td>source_2</td>\n",
       "      <td>campaign4</td>\n",
       "      <td>20332</td>\n",
       "      <td>5881</td>\n",
       "      <td>710</td>\n",
       "      <td>1932.0</td>\n",
       "      <td>17.0</td>\n",
       "      <td>6.0</td>\n",
       "      <td>2.0</td>\n",
       "      <td>1.0</td>\n",
       "      <td>0</td>\n",
       "      <td>0</td>\n",
       "    </tr>\n",
       "    <tr>\n",
       "      <th>4</th>\n",
       "      <td>2020-12-24</td>\n",
       "      <td>source_3</td>\n",
       "      <td>campaign5</td>\n",
       "      <td>183401</td>\n",
       "      <td>2818</td>\n",
       "      <td>45</td>\n",
       "      <td>301.0</td>\n",
       "      <td>71.0</td>\n",
       "      <td>6.0</td>\n",
       "      <td>1.0</td>\n",
       "      <td>1.0</td>\n",
       "      <td>0</td>\n",
       "      <td>0</td>\n",
       "    </tr>\n",
       "  </tbody>\n",
       "</table>\n",
       "</div>"
      ],
      "text/plain": [
       "  Дата установки Источник установки Рекламная кампания  Показы  Клики  \\\n",
       "0     2020-12-04           source_1          campaign1  961928    290   \n",
       "1     2020-12-01           source_1          campaign2  167284    182   \n",
       "2     2020-12-18           source_2          campaign3    2517     83   \n",
       "3     2020-12-27           source_2          campaign4   20332   5881   \n",
       "4     2020-12-24           source_3          campaign5  183401   2818   \n",
       "\n",
       "   Затраты  Установки  Заявки  Одобрения  Активации  Утилизации  \\\n",
       "0     1262       44.0    11.0        4.0        3.0         3.0   \n",
       "1      111       35.0     2.0        1.0        0.0         0.0   \n",
       "2       36        7.0     5.0        2.0        1.0         1.0   \n",
       "3      710     1932.0    17.0        6.0        2.0         1.0   \n",
       "4       45      301.0    71.0        6.0        1.0         1.0   \n",
       "\n",
       "  Средние балансы Денежные обороты  \n",
       "0      220,374449      155,4221167  \n",
       "1             NaN              NaN  \n",
       "2     3,918424516      20,57456667  \n",
       "3               0                0  \n",
       "4               0                0  "
      ]
     },
     "execution_count": 320,
     "metadata": {},
     "output_type": "execute_result"
    }
   ],
   "source": [
    "df.head()"
   ]
  },
  {
   "cell_type": "code",
   "execution_count": 321,
   "id": "09fee337",
   "metadata": {},
   "outputs": [],
   "source": [
    "df['Дата установки'] = pd.to_datetime(df['Дата установки'])"
   ]
  },
  {
   "cell_type": "code",
   "execution_count": 322,
   "id": "4bf496a4",
   "metadata": {},
   "outputs": [
    {
     "data": {
      "text/plain": [
       "Дата установки        datetime64[ns]\n",
       "Источник установки            object\n",
       "Рекламная кампания            object\n",
       "Показы                         int64\n",
       "Клики                          int64\n",
       "Затраты                        int64\n",
       "Установки                    float64\n",
       "Заявки                       float64\n",
       "Одобрения                    float64\n",
       "Активации                    float64\n",
       "Утилизации                   float64\n",
       "Средние балансы               object\n",
       "Денежные обороты              object\n",
       "dtype: object"
      ]
     },
     "execution_count": 322,
     "metadata": {},
     "output_type": "execute_result"
    }
   ],
   "source": [
    "df.dtypes"
   ]
  },
  {
   "cell_type": "code",
   "execution_count": 323,
   "id": "a4c606cb",
   "metadata": {},
   "outputs": [],
   "source": [
    "df['Средние балансы'] = df['Средние балансы'].str.replace(',', '.').astype(float)\n",
    "df['Денежные обороты'] = df['Денежные обороты'].str.replace(',', '.').astype(float)"
   ]
  },
  {
   "cell_type": "code",
   "execution_count": 324,
   "id": "b99083f2",
   "metadata": {},
   "outputs": [
    {
     "data": {
      "text/plain": [
       "Дата установки        0.000000\n",
       "Источник установки    0.000000\n",
       "Рекламная кампания    0.000000\n",
       "Показы                0.000000\n",
       "Клики                 0.000000\n",
       "Затраты               0.000000\n",
       "Установки             0.083888\n",
       "Заявки                0.201065\n",
       "Одобрения             0.083888\n",
       "Активации             0.083888\n",
       "Утилизации            0.083888\n",
       "Средние балансы       0.335553\n",
       "Денежные обороты      0.351531\n",
       "dtype: float64"
      ]
     },
     "execution_count": 324,
     "metadata": {},
     "output_type": "execute_result"
    }
   ],
   "source": [
    "df.isna().mean()"
   ]
  },
  {
   "cell_type": "code",
   "execution_count": 325,
   "id": "ad65323a",
   "metadata": {},
   "outputs": [],
   "source": [
    "# Занулим денежные средства там, где количество утилизаций == 0\n",
    "df['Средние балансы'] = np.where(df['Утилизации'] == 0, 0, df['Средние балансы'])\n",
    "df['Денежные обороты'] = np.where(df['Утилизации'] == 0, 0, df['Денежные обороты'])"
   ]
  },
  {
   "cell_type": "code",
   "execution_count": 326,
   "id": "aff2619a",
   "metadata": {},
   "outputs": [],
   "source": [
    "no_data = df.set_index('Дата установки').isna().reset_index().groupby('Дата установки').sum()"
   ]
  },
  {
   "cell_type": "code",
   "execution_count": 327,
   "id": "e726174e",
   "metadata": {},
   "outputs": [
    {
     "data": {
      "text/plain": [
       "Index(['Источник установки', 'Рекламная кампания', 'Показы', 'Клики',\n",
       "       'Затраты', 'Установки', 'Заявки', 'Одобрения', 'Активации',\n",
       "       'Утилизации', 'Средние балансы', 'Денежные обороты'],\n",
       "      dtype='object')"
      ]
     },
     "execution_count": 327,
     "metadata": {},
     "output_type": "execute_result"
    }
   ],
   "source": [
    "no_data.columns"
   ]
  },
  {
   "cell_type": "code",
   "execution_count": 328,
   "id": "d1aa37d5",
   "metadata": {},
   "outputs": [],
   "source": [
    "col1 = no_data.columns[2:5]"
   ]
  },
  {
   "cell_type": "code",
   "execution_count": 329,
   "id": "7b95baa1",
   "metadata": {},
   "outputs": [
    {
     "data": {
      "text/plain": [
       "Text(0.5, 1.0, 'Nan данные')"
      ]
     },
     "execution_count": 329,
     "metadata": {},
     "output_type": "execute_result"
    },
    {
     "data": {
      "image/png": "[encoded data removed]",
      "text/plain": [
       "<Figure size 1440x288 with 1 Axes>"
      ]
     },
     "metadata": {},
     "output_type": "display_data"
    }
   ],
   "source": [
    "plt.figure(figsize=(20,4))\n",
    "ax=sns.lineplot(data=no_data[col1])\n",
    "ax.set_title('Nan данные')"
   ]
  },
  {
   "cell_type": "code",
   "execution_count": 330,
   "id": "53ea2f7d",
   "metadata": {},
   "outputs": [
    {
     "data": {
      "text/plain": [
       "Text(0.5, 1.0, 'Nan данные')"
      ]
     },
     "execution_count": 330,
     "metadata": {},
     "output_type": "execute_result"
    },
    {
     "data": {
      "image/png": "[encoded data removed]",
      "text/plain": [
       "<Figure size 1440x288 with 1 Axes>"
      ]
     },
     "metadata": {},
     "output_type": "display_data"
    }
   ],
   "source": [
    "col2 = no_data.columns[5:]\n",
    "sns.set_theme(style=\"whitegrid\")\n",
    "plt.figure(figsize=(20,4))\n",
    "ax = sns.lineplot(data=no_data[col2])\n",
    "ax.set_title('Nan данные')"
   ]
  },
  {
   "cell_type": "code",
   "execution_count": 331,
   "id": "46b213c7",
   "metadata": {},
   "outputs": [],
   "source": [
    "#Заполним пропущенные данные средним\n",
    "df.fillna(df.mean(numeric_only=True), inplace=True)"
   ]
  },
  {
   "cell_type": "code",
   "execution_count": 332,
   "id": "292b7d05",
   "metadata": {},
   "outputs": [
    {
     "data": {
      "text/plain": [
       "Дата установки        0.0\n",
       "Источник установки    0.0\n",
       "Рекламная кампания    0.0\n",
       "Показы                0.0\n",
       "Клики                 0.0\n",
       "Затраты               0.0\n",
       "Установки             0.0\n",
       "Заявки                0.0\n",
       "Одобрения             0.0\n",
       "Активации             0.0\n",
       "Утилизации            0.0\n",
       "Средние балансы       0.0\n",
       "Денежные обороты      0.0\n",
       "dtype: float64"
      ]
     },
     "execution_count": 332,
     "metadata": {},
     "output_type": "execute_result"
    }
   ],
   "source": [
    "df.isna().mean()"
   ]
  },
  {
   "cell_type": "code",
   "execution_count": 333,
   "id": "f3865abb",
   "metadata": {},
   "outputs": [
    {
     "data": {
      "text/plain": [
       "min   2020-12-01\n",
       "max   2020-12-31\n",
       "Name: Дата установки, dtype: datetime64[ns]"
      ]
     },
     "execution_count": 333,
     "metadata": {},
     "output_type": "execute_result"
    }
   ],
   "source": [
    "df['Дата установки'].agg(['min', 'max'])"
   ]
  },
  {
   "cell_type": "markdown",
   "id": "46d0b113",
   "metadata": {},
   "source": [
    "# Задания"
   ]
  },
  {
   "cell_type": "code",
   "execution_count": 334,
   "id": "97d4a60f",
   "metadata": {},
   "outputs": [],
   "source": [
    "def conversion(df):\n",
    "    cr = df[(df['Дата установки'] >= '2020-12-11') &\\\n",
    "        (df['Дата установки'] <= '2020-12-24') &\\\n",
    "        (df['Рекламная кампания'] == 'campaign17')]\n",
    "    cr['conversion_rate'] = df['Утилизации'] / df['Установки']\n",
    "    cr['conversion_rate'] = cr['conversion_rate'].mul(100).round(2)\n",
    "    col = ['Дата установки', 'Рекламная кампания', 'Установки', 'Утилизации', 'conversion_rate']\n",
    "    return cr[col].sort_values('Дата установки')"
   ]
  },
  {
   "cell_type": "code",
   "execution_count": null,
   "id": "09f3a4e0",
   "metadata": {},
   "outputs": [],
   "source": []
  },
  {
   "cell_type": "markdown",
   "id": "a57340d0",
   "metadata": {},
   "source": [
    "<b>1. Для рекламной кампании campaign17 рассчитать конверсию из установки в утилизацию для дат 2020-12-11 – 2020-12-24<b/>"
   ]
  },
  {
   "cell_type": "code",
   "execution_count": 335,
   "id": "71af25f5",
   "metadata": {},
   "outputs": [
    {
     "data": {
      "text/html": [
       "<div>\n",
       "<style scoped>\n",
       "    .dataframe tbody tr th:only-of-type {\n",
       "        vertical-align: middle;\n",
       "    }\n",
       "\n",
       "    .dataframe tbody tr th {\n",
       "        vertical-align: top;\n",
       "    }\n",
       "\n",
       "    .dataframe thead th {\n",
       "        text-align: right;\n",
       "    }\n",
       "</style>\n",
       "<table border=\"1\" class=\"dataframe\">\n",
       "  <thead>\n",
       "    <tr style=\"text-align: right;\">\n",
       "      <th></th>\n",
       "      <th>Дата установки</th>\n",
       "      <th>Рекламная кампания</th>\n",
       "      <th>Установки</th>\n",
       "      <th>Утилизации</th>\n",
       "      <th>conversion_rate</th>\n",
       "    </tr>\n",
       "  </thead>\n",
       "  <tbody>\n",
       "    <tr>\n",
       "      <th>377</th>\n",
       "      <td>2020-12-11</td>\n",
       "      <td>campaign17</td>\n",
       "      <td>6156.0</td>\n",
       "      <td>74.0</td>\n",
       "      <td>1.20</td>\n",
       "    </tr>\n",
       "    <tr>\n",
       "      <th>393</th>\n",
       "      <td>2020-12-12</td>\n",
       "      <td>campaign17</td>\n",
       "      <td>8241.0</td>\n",
       "      <td>91.0</td>\n",
       "      <td>1.10</td>\n",
       "    </tr>\n",
       "    <tr>\n",
       "      <th>356</th>\n",
       "      <td>2020-12-13</td>\n",
       "      <td>campaign17</td>\n",
       "      <td>9170.0</td>\n",
       "      <td>111.0</td>\n",
       "      <td>1.21</td>\n",
       "    </tr>\n",
       "    <tr>\n",
       "      <th>714</th>\n",
       "      <td>2020-12-14</td>\n",
       "      <td>campaign17</td>\n",
       "      <td>10542.0</td>\n",
       "      <td>120.0</td>\n",
       "      <td>1.14</td>\n",
       "    </tr>\n",
       "    <tr>\n",
       "      <th>259</th>\n",
       "      <td>2020-12-15</td>\n",
       "      <td>campaign17</td>\n",
       "      <td>7823.0</td>\n",
       "      <td>95.0</td>\n",
       "      <td>1.21</td>\n",
       "    </tr>\n",
       "    <tr>\n",
       "      <th>638</th>\n",
       "      <td>2020-12-16</td>\n",
       "      <td>campaign17</td>\n",
       "      <td>8048.0</td>\n",
       "      <td>85.0</td>\n",
       "      <td>1.06</td>\n",
       "    </tr>\n",
       "    <tr>\n",
       "      <th>243</th>\n",
       "      <td>2020-12-17</td>\n",
       "      <td>campaign17</td>\n",
       "      <td>7872.0</td>\n",
       "      <td>96.0</td>\n",
       "      <td>1.22</td>\n",
       "    </tr>\n",
       "    <tr>\n",
       "      <th>453</th>\n",
       "      <td>2020-12-18</td>\n",
       "      <td>campaign17</td>\n",
       "      <td>6769.0</td>\n",
       "      <td>85.0</td>\n",
       "      <td>1.26</td>\n",
       "    </tr>\n",
       "    <tr>\n",
       "      <th>296</th>\n",
       "      <td>2020-12-19</td>\n",
       "      <td>campaign17</td>\n",
       "      <td>7031.0</td>\n",
       "      <td>82.0</td>\n",
       "      <td>1.17</td>\n",
       "    </tr>\n",
       "    <tr>\n",
       "      <th>192</th>\n",
       "      <td>2020-12-20</td>\n",
       "      <td>campaign17</td>\n",
       "      <td>9174.0</td>\n",
       "      <td>109.0</td>\n",
       "      <td>1.19</td>\n",
       "    </tr>\n",
       "    <tr>\n",
       "      <th>28</th>\n",
       "      <td>2020-12-21</td>\n",
       "      <td>campaign17</td>\n",
       "      <td>9137.0</td>\n",
       "      <td>88.0</td>\n",
       "      <td>0.96</td>\n",
       "    </tr>\n",
       "    <tr>\n",
       "      <th>649</th>\n",
       "      <td>2020-12-22</td>\n",
       "      <td>campaign17</td>\n",
       "      <td>8406.0</td>\n",
       "      <td>103.0</td>\n",
       "      <td>1.23</td>\n",
       "    </tr>\n",
       "    <tr>\n",
       "      <th>80</th>\n",
       "      <td>2020-12-23</td>\n",
       "      <td>campaign17</td>\n",
       "      <td>9057.0</td>\n",
       "      <td>123.0</td>\n",
       "      <td>1.36</td>\n",
       "    </tr>\n",
       "    <tr>\n",
       "      <th>30</th>\n",
       "      <td>2020-12-24</td>\n",
       "      <td>campaign17</td>\n",
       "      <td>8147.0</td>\n",
       "      <td>83.0</td>\n",
       "      <td>1.02</td>\n",
       "    </tr>\n",
       "  </tbody>\n",
       "</table>\n",
       "</div>"
      ],
      "text/plain": [
       "    Дата установки Рекламная кампания  Установки  Утилизации  conversion_rate\n",
       "377     2020-12-11         campaign17     6156.0        74.0             1.20\n",
       "393     2020-12-12         campaign17     8241.0        91.0             1.10\n",
       "356     2020-12-13         campaign17     9170.0       111.0             1.21\n",
       "714     2020-12-14         campaign17    10542.0       120.0             1.14\n",
       "259     2020-12-15         campaign17     7823.0        95.0             1.21\n",
       "638     2020-12-16         campaign17     8048.0        85.0             1.06\n",
       "243     2020-12-17         campaign17     7872.0        96.0             1.22\n",
       "453     2020-12-18         campaign17     6769.0        85.0             1.26\n",
       "296     2020-12-19         campaign17     7031.0        82.0             1.17\n",
       "192     2020-12-20         campaign17     9174.0       109.0             1.19\n",
       "28      2020-12-21         campaign17     9137.0        88.0             0.96\n",
       "649     2020-12-22         campaign17     8406.0       103.0             1.23\n",
       "80      2020-12-23         campaign17     9057.0       123.0             1.36\n",
       "30      2020-12-24         campaign17     8147.0        83.0             1.02"
      ]
     },
     "execution_count": 335,
     "metadata": {},
     "output_type": "execute_result"
    }
   ],
   "source": [
    "conversion(df)"
   ]
  },
  {
   "cell_type": "code",
   "execution_count": 344,
   "id": "1f3b67a5",
   "metadata": {},
   "outputs": [],
   "source": [
    "def cost_per_click(df):\n",
    "    sources = df.groupby('Источник установки', as_index=False).sum()\n",
    "    sources['cpc'] = sources['Затраты'] / sources['Клики']\n",
    "    return sources[sources['Источник установки'] == 'source_2'][['Источник установки', 'cpc']]"
   ]
  },
  {
   "cell_type": "markdown",
   "id": "c89c58a5",
   "metadata": {},
   "source": [
    "<b>2. Для источника source_2 рассчитать CPC суммарно за месяц<b/>\n"
   ]
  },
  {
   "cell_type": "code",
   "execution_count": 345,
   "id": "36a21af6",
   "metadata": {},
   "outputs": [
    {
     "data": {
      "text/html": [
       "<div>\n",
       "<style scoped>\n",
       "    .dataframe tbody tr th:only-of-type {\n",
       "        vertical-align: middle;\n",
       "    }\n",
       "\n",
       "    .dataframe tbody tr th {\n",
       "        vertical-align: top;\n",
       "    }\n",
       "\n",
       "    .dataframe thead th {\n",
       "        text-align: right;\n",
       "    }\n",
       "</style>\n",
       "<table border=\"1\" class=\"dataframe\">\n",
       "  <thead>\n",
       "    <tr style=\"text-align: right;\">\n",
       "      <th></th>\n",
       "      <th>Источник установки</th>\n",
       "      <th>cpc</th>\n",
       "    </tr>\n",
       "  </thead>\n",
       "  <tbody>\n",
       "    <tr>\n",
       "      <th>1</th>\n",
       "      <td>source_2</td>\n",
       "      <td>0.144332</td>\n",
       "    </tr>\n",
       "  </tbody>\n",
       "</table>\n",
       "</div>"
      ],
      "text/plain": [
       "  Источник установки       cpc\n",
       "1           source_2  0.144332"
      ]
     },
     "execution_count": 345,
     "metadata": {},
     "output_type": "execute_result"
    }
   ],
   "source": [
    "cost_per_click(df)"
   ]
  },
  {
   "cell_type": "code",
   "execution_count": 338,
   "id": "010e0760",
   "metadata": {},
   "outputs": [],
   "source": [
    "def metrics(df):\n",
    "    df['ctr'] = (df['Клики'] / df['Показы']).mul(100)\n",
    "    df['cpc'] = df['Затраты'] / df['Клики']\n",
    "    df['cpa'] = (df['Затраты'] / df['Утилизации'])\n",
    "    df['Конверсия в заявку'] = (df['Заявки'] / df['Клики']).mul(100)\n",
    "    df['Конверсия в активацию'] = (df['Активации'] / df['Клики']).mul(100)\n",
    "    df['Конверсия в утилизацию'] = (df['Утилизации'] / df['Клики']).mul(100)\n",
    "    df.replace([np.inf, -np.inf], 0, inplace=True)\n",
    "    df.fillna(0, inplace=True)\n",
    "    return df"
   ]
  },
  {
   "cell_type": "markdown",
   "id": "c283c3d2",
   "metadata": {},
   "source": [
    "<b>3. Какой канал можно считать самым выгодным и почему?<b/>"
   ]
  },
  {
   "cell_type": "code",
   "execution_count": 346,
   "id": "156f68d5",
   "metadata": {},
   "outputs": [],
   "source": [
    "sources = metrics(df.groupby('Источник установки').sum())"
   ]
  },
  {
   "cell_type": "code",
   "execution_count": 347,
   "id": "59275dd0",
   "metadata": {},
   "outputs": [
    {
     "data": {
      "text/html": [
       "<div>\n",
       "<style scoped>\n",
       "    .dataframe tbody tr th:only-of-type {\n",
       "        vertical-align: middle;\n",
       "    }\n",
       "\n",
       "    .dataframe tbody tr th {\n",
       "        vertical-align: top;\n",
       "    }\n",
       "\n",
       "    .dataframe thead th {\n",
       "        text-align: right;\n",
       "    }\n",
       "</style>\n",
       "<table border=\"1\" class=\"dataframe\">\n",
       "  <thead>\n",
       "    <tr style=\"text-align: right;\">\n",
       "      <th></th>\n",
       "      <th>Показы</th>\n",
       "      <th>Клики</th>\n",
       "      <th>Затраты</th>\n",
       "      <th>Установки</th>\n",
       "      <th>Заявки</th>\n",
       "      <th>Одобрения</th>\n",
       "      <th>Активации</th>\n",
       "      <th>Утилизации</th>\n",
       "      <th>Средние балансы</th>\n",
       "      <th>Денежные обороты</th>\n",
       "      <th>ctr</th>\n",
       "      <th>cpc</th>\n",
       "      <th>cpa</th>\n",
       "      <th>Конверсия в заявку</th>\n",
       "      <th>Конверсия в активацию</th>\n",
       "      <th>Конверсия в утилизацию</th>\n",
       "    </tr>\n",
       "    <tr>\n",
       "      <th>Источник установки</th>\n",
       "      <th></th>\n",
       "      <th></th>\n",
       "      <th></th>\n",
       "      <th></th>\n",
       "      <th></th>\n",
       "      <th></th>\n",
       "      <th></th>\n",
       "      <th></th>\n",
       "      <th></th>\n",
       "      <th></th>\n",
       "      <th></th>\n",
       "      <th></th>\n",
       "      <th></th>\n",
       "      <th></th>\n",
       "      <th></th>\n",
       "      <th></th>\n",
       "    </tr>\n",
       "  </thead>\n",
       "  <tbody>\n",
       "    <tr>\n",
       "      <th>source_1</th>\n",
       "      <td>168570739</td>\n",
       "      <td>222120</td>\n",
       "      <td>254460</td>\n",
       "      <td>49968.892442</td>\n",
       "      <td>9280.773333</td>\n",
       "      <td>1801.061047</td>\n",
       "      <td>930.834302</td>\n",
       "      <td>791.569767</td>\n",
       "      <td>46293.949806</td>\n",
       "      <td>34350.272413</td>\n",
       "      <td>0.131767</td>\n",
       "      <td>1.145597</td>\n",
       "      <td>321.462505</td>\n",
       "      <td>4.178270</td>\n",
       "      <td>0.419068</td>\n",
       "      <td>0.356370</td>\n",
       "    </tr>\n",
       "    <tr>\n",
       "      <th>source_2</th>\n",
       "      <td>4852136</td>\n",
       "      <td>518146</td>\n",
       "      <td>74785</td>\n",
       "      <td>148018.530523</td>\n",
       "      <td>10753.748333</td>\n",
       "      <td>3633.388081</td>\n",
       "      <td>1682.303779</td>\n",
       "      <td>1486.122093</td>\n",
       "      <td>82749.583223</td>\n",
       "      <td>72697.806036</td>\n",
       "      <td>10.678720</td>\n",
       "      <td>0.144332</td>\n",
       "      <td>50.322245</td>\n",
       "      <td>2.075428</td>\n",
       "      <td>0.324678</td>\n",
       "      <td>0.286815</td>\n",
       "    </tr>\n",
       "    <tr>\n",
       "      <th>source_3</th>\n",
       "      <td>350370213</td>\n",
       "      <td>1253829</td>\n",
       "      <td>356884</td>\n",
       "      <td>253762.000000</td>\n",
       "      <td>24103.000000</td>\n",
       "      <td>8375.000000</td>\n",
       "      <td>3623.000000</td>\n",
       "      <td>3071.000000</td>\n",
       "      <td>136124.287314</td>\n",
       "      <td>89395.604619</td>\n",
       "      <td>0.357858</td>\n",
       "      <td>0.284635</td>\n",
       "      <td>116.211006</td>\n",
       "      <td>1.922351</td>\n",
       "      <td>0.288955</td>\n",
       "      <td>0.244930</td>\n",
       "    </tr>\n",
       "  </tbody>\n",
       "</table>\n",
       "</div>"
      ],
      "text/plain": [
       "                       Показы    Клики  Затраты      Установки        Заявки  \\\n",
       "Источник установки                                                             \n",
       "source_1            168570739   222120   254460   49968.892442   9280.773333   \n",
       "source_2              4852136   518146    74785  148018.530523  10753.748333   \n",
       "source_3            350370213  1253829   356884  253762.000000  24103.000000   \n",
       "\n",
       "                      Одобрения    Активации   Утилизации  Средние балансы  \\\n",
       "Источник установки                                                           \n",
       "source_1            1801.061047   930.834302   791.569767     46293.949806   \n",
       "source_2            3633.388081  1682.303779  1486.122093     82749.583223   \n",
       "source_3            8375.000000  3623.000000  3071.000000    136124.287314   \n",
       "\n",
       "                    Денежные обороты        ctr       cpc         cpa  \\\n",
       "Источник установки                                                      \n",
       "source_1                34350.272413   0.131767  1.145597  321.462505   \n",
       "source_2                72697.806036  10.678720  0.144332   50.322245   \n",
       "source_3                89395.604619   0.357858  0.284635  116.211006   \n",
       "\n",
       "                    Конверсия в заявку  Конверсия в активацию  \\\n",
       "Источник установки                                              \n",
       "source_1                      4.178270               0.419068   \n",
       "source_2                      2.075428               0.324678   \n",
       "source_3                      1.922351               0.288955   \n",
       "\n",
       "                    Конверсия в утилизацию  \n",
       "Источник установки                          \n",
       "source_1                          0.356370  \n",
       "source_2                          0.286815  \n",
       "source_3                          0.244930  "
      ]
     },
     "execution_count": 347,
     "metadata": {},
     "output_type": "execute_result"
    }
   ],
   "source": [
    "sources"
   ]
  },
  {
   "cell_type": "markdown",
   "id": "a4c84e9a",
   "metadata": {},
   "source": [
    "Source_2 можно считать самым выгодным, так как у него самая низкие стоимости за клик и целевое действие, достаточно высокие\n",
    "конверсии в целевые действия."
   ]
  },
  {
   "cell_type": "code",
   "execution_count": null,
   "id": "a24c6a54",
   "metadata": {},
   "outputs": [],
   "source": []
  },
  {
   "cell_type": "markdown",
   "id": "a1250a30",
   "metadata": {},
   "source": [
    "<b>4.Какие инсайты можно найти по данному датасету</b>"
   ]
  },
  {
   "cell_type": "code",
   "execution_count": 348,
   "id": "c13d6d0c",
   "metadata": {},
   "outputs": [],
   "source": [
    "df_by_days = metrics(df_by_days.groupby('Дата установки').sum())"
   ]
  },
  {
   "cell_type": "code",
   "execution_count": 349,
   "id": "637e48e5",
   "metadata": {},
   "outputs": [
    {
     "data": {
      "image/png": "[encoded data removed]",
      "text/plain": [
       "<Figure size 720x720 with 4 Axes>"
      ]
     },
     "metadata": {},
     "output_type": "display_data"
    }
   ],
   "source": [
    "sns.set_theme(style=\"whitegrid\")\n",
    "fig, axes = plt.subplots(2, 2, figsize=(10, 10))\n",
    "sns.boxplot(x=df_by_days['Показы'], ax=axes[0,0])\n",
    "sns.boxplot(x=df_by_days['Клики'], ax=axes[0,1])\n",
    "sns.boxplot(x=df_by_days['Установки'], ax=axes[1, 0])\n",
    "sns.boxplot(x=df_by_days['Заявки'], ax=axes[1,1])\n",
    "fig.tight_layout()"
   ]
  },
  {
   "cell_type": "code",
   "execution_count": 350,
   "id": "440ab24c",
   "metadata": {},
   "outputs": [
    {
     "data": {
      "text/plain": [
       "Text(0.5, 1.0, 'Динамика показателей')"
      ]
     },
     "execution_count": 350,
     "metadata": {},
     "output_type": "execute_result"
    },
    {
     "data": {
      "image/png": "[encoded data removed]",
      "text/plain": [
       "<Figure size 1440x288 with 1 Axes>"
      ]
     },
     "metadata": {},
     "output_type": "display_data"
    }
   ],
   "source": [
    "num_columns = ['ctr', 'Конверсия в заявку', 'Конверсия в активацию', 'Конверсия в утилизацию']\n",
    "sns.set_theme(style=\"whitegrid\")\n",
    "plt.figure(figsize=(20,4))\n",
    "df_by_days = df_by_days\n",
    "ax = sns.lineplot(data=df_by_days[num_columns])\n",
    "ax.set_title('Динамика показателей')"
   ]
  },
  {
   "cell_type": "markdown",
   "id": "aec62fdb",
   "metadata": {},
   "source": []
  },
  {
   "cell_type": "code",
   "execution_count": 352,
   "id": "636b2517",
   "metadata": {},
   "outputs": [
    {
     "data": {
      "text/plain": [
       "Timestamp('2020-12-27 00:00:00')"
      ]
     },
     "execution_count": 352,
     "metadata": {},
     "output_type": "execute_result"
    }
   ],
   "source": [
    "df_by_days['Конверсия в заявку'].idxmin()"
   ]
  },
  {
   "cell_type": "markdown",
   "id": "6e5578da",
   "metadata": {},
   "source": [
    "В датасете есть пропущенные значения, нужно бы разобраться, почему так произошло.\n",
    "В целом аномалий в данных нет. Можно отметить резкое снижение конверсии в заявку 27 декабря."
   ]
  },
  {
   "cell_type": "markdown",
   "id": "3111d576",
   "metadata": {},
   "source": [
    "# Часть 2"
   ]
  },
  {
   "cell_type": "markdown",
   "id": "853d7ef1",
   "metadata": {},
   "source": [
    "<b>Что такое система мобильной аналитики, какие существуют и как работают?</b>\n",
    "\n",
    "Система мобильной аналитики - это система сбора информации о пользователях приложений.<br>\n",
    "Есть трекеры: поддерживают интеграции с рекламными площадками и отслеживают источники установок<br>\n",
    "Есть продуктовая аналитика: изучает аудиторию приложения и следит за основными KPI<br>"
   ]
  },
  {
   "cell_type": "markdown",
   "id": "38841965",
   "metadata": {},
   "source": [
    "<b>В чем принципиальные отличия мобильной аналитики от веб-аналитики?</b>\n",
    "\n",
    "Традиционный веб-сайт генерирует много данных о трафике поисковых систем. У мобильных приложений вместо статистики \n",
    "входящего трафика собираются данные о том, как часто пользователи запускают приложение, среднюю \n",
    "продолжительность сеанса и так далее."
   ]
  },
  {
   "cell_type": "markdown",
   "id": "50090ebf",
   "metadata": {},
   "source": [
    "<b>По каким показателям и с помощью каких ресурсов/инструментов можно оценить качество мобильного приложения?</b>\n",
    "\n",
    "Будем смотреть на количество установок, MAU, DAU, CPI, CAC, Retention Rate, Churn Rate, Average Session Length, средний чек.<br>\n",
    "Для отслеживания метрик будем использовать Firebase Analytics/AppMetrica."
   ]
  },
  {
   "cell_type": "markdown",
   "id": "7891bb99",
   "metadata": {},
   "source": [
    "<b>Мы – книжный онлайн-магазин, все процессы на сайте от заказа до доставки у нас уже налажены, а сейчас хотим реализовать приложение для продажи книг.\n",
    "Нужно придумать реализацию (достаточно словами какие будут экраны и пр.), описать какие данные нам нужны для аналитики, как будем их собирать, описать воронку продаж.</b>\n",
    "\n",
    "Экраны:<br>\n",
    "Экран заставки<br>\n",
    "Главный экран с поиском, меню<br>\n",
    "Экран регистрации и входа в систему<br>\n",
    "Контрольный экран (оформление заказа)<br>\n",
    "\n",
    "Будем собирать такие же матрики (см. предыдущий ответ)\n",
    "\n",
    "Воронка продаж:<br>\n",
    "Вход в приложение<br>\n",
    "Выбор товаров<br>\n",
    "Корзина<br>\n",
    "Оформление заказа<br>\n",
    "Оплата<br>\n"
   ]
  }
 ],
 "metadata": {
  "kernelspec": {
   "display_name": "Python 3 (ipykernel)",
   "language": "python",
   "name": "python3"
  },
  "language_info": {
   "codemirror_mode": {
    "name": "ipython",
    "version": 3
   },
   "file_extension": ".py",
   "mimetype": "text/x-python",
   "name": "python",
   "nbconvert_exporter": "python",
   "pygments_lexer": "ipython3",
   "version": "3.9.12"
  }
 },
 "nbformat": 4,
 "nbformat_minor": 5
}
